{
 "cells": [
  {
   "cell_type": "markdown",
   "metadata": {},
   "source": [
    "<h2> Data Cleaning </h2>\n",
    "<h7> The Data has lot of unnecessary columns. Also data in some of the columns needs to be in appropriate letter case </h7>"
   ]
  },
  {
   "cell_type": "code",
   "execution_count": 1,
   "metadata": {},
   "outputs": [],
   "source": [
    "import pandas as pd\n",
    "import numpy as np"
   ]
  },
  {
   "cell_type": "code",
   "execution_count": 2,
   "metadata": {},
   "outputs": [
    {
     "name": "stderr",
     "output_type": "stream",
     "text": [
      "C:\\Users\\sujit\\anaconda3\\lib\\site-packages\\IPython\\core\\interactiveshell.py:3063: DtypeWarning: Columns (11,12,13,14,17,20) have mixed types.Specify dtype option on import or set low_memory=False.\n",
      "  interactivity=interactivity, compiler=compiler, result=result)\n"
     ]
    }
   ],
   "source": [
    "##Load the original data frame\n",
    "body = \"NYC_311_Data.csv\"\n",
    "df = pd.read_csv(body)"
   ]
  },
  {
   "cell_type": "markdown",
   "metadata": {},
   "source": [
    "<h7> To save the storage space and compute time we will only use columns relevant to our analysis </h7>"
   ]
  },
  {
   "cell_type": "code",
   "execution_count": 3,
   "metadata": {},
   "outputs": [],
   "source": [
    "##drop the unnecessary columns\n",
    "df = df[['Unique Key', 'Created Date', 'Closed Date', 'Complaint Type', 'Descriptor', 'Location Type',\n",
    "         'Incident Zip', 'Incident Address', 'Street Name', 'City', 'Status', 'Resolution Description',\n",
    "         'Borough', 'Open Data Channel Type']]"
   ]
  },
  {
   "cell_type": "markdown",
   "metadata": {},
   "source": [
    "<h7> The Incident Zip, Incident Address, Street Name, Location Type Columns have lots of missing values (same row have all of them missing). Out of them the Incident Zip has most missing values and removing them will also eliminate the missing values from other columns </h7>"
   ]
  },
  {
   "cell_type": "code",
   "execution_count": 4,
   "metadata": {},
   "outputs": [],
   "source": [
    "##drop the rows with no Incident Zip(Incident Address, Street Name, Location Type Null values will also be dropped)\n",
    "df = df[df['Incident Zip'].notnull()]"
   ]
  },
  {
   "cell_type": "markdown",
   "metadata": {},
   "source": [
    "<h7> The missing values of resolution description and Descriptors belong to same rows. Out of them the Resolution Description has most missing values and removing them will also eliminate the missing values from other column </h7>"
   ]
  },
  {
   "cell_type": "code",
   "execution_count": 5,
   "metadata": {},
   "outputs": [],
   "source": [
    "##drop the rows with null Resolution Description values(Descriptor Null values will also be dropped)\n",
    "df = df[df[\"Resolution Description\"].notnull()]"
   ]
  },
  {
   "cell_type": "markdown",
   "metadata": {},
   "source": [
    "<h7> In complaint type column. Same complaint type is reported in two different formats. We should keep only one format before starting the data analysis </h7>"
   ]
  },
  {
   "cell_type": "code",
   "execution_count": 6,
   "metadata": {},
   "outputs": [],
   "source": [
    "##change string name to reduce redundant categories\n",
    "df[\"Complaint Type\"] = df[\"Complaint Type\"].replace(to_replace = \"PAINT - PLASTER\" , value = \"PAINT/PLASTER\", regex = True)"
   ]
  },
  {
   "cell_type": "markdown",
   "metadata": {},
   "source": [
    "<h7> Save the dataframe to new file </h7>"
   ]
  },
  {
   "cell_type": "code",
   "execution_count": 8,
   "metadata": {},
   "outputs": [],
   "source": [
    "##save the cleaned dataframe into new excel file\n",
    "df.to_csv(\"NYC_311_Data_Sort.csv\")"
   ]
  }
 ],
 "metadata": {
  "kernelspec": {
   "display_name": "Python 3",
   "language": "python",
   "name": "python3"
  },
  "language_info": {
   "codemirror_mode": {
    "name": "ipython",
    "version": 3
   },
   "file_extension": ".py",
   "mimetype": "text/x-python",
   "name": "python",
   "nbconvert_exporter": "python",
   "pygments_lexer": "ipython3",
   "version": "3.7.6"
  }
 },
 "nbformat": 4,
 "nbformat_minor": 4
}
