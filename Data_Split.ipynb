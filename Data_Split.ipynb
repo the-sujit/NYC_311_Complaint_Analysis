{
 "cells": [
  {
   "cell_type": "code",
   "execution_count": 2,
   "metadata": {},
   "outputs": [],
   "source": [
    "import pandas as pd\n",
    "import numpy as np\n",
    "import matplotlib.pyplot as plt\n",
    "from datetime import datetime"
   ]
  },
  {
   "cell_type": "code",
   "execution_count": 3,
   "metadata": {},
   "outputs": [],
   "source": [
    "body = \"NYC_311_Data_Sort.csv\"\n",
    "df = pd.read_csv(body)"
   ]
  },
  {
   "cell_type": "code",
   "execution_count": 4,
   "metadata": {},
   "outputs": [],
   "source": [
    "##drop the unnecessary columns\n",
    "df = df[['Unique Key', 'Created Date', 'Closed Date', 'Complaint Type', 'Descriptor', 'Incident Zip', 'Incident Address',\n",
    "         'Street Name', 'City', 'Status', 'Resolution Description', 'Borough', 'Open Data Channel Type']]"
   ]
  },
  {
   "cell_type": "code",
   "execution_count": 5,
   "metadata": {},
   "outputs": [
    {
     "name": "stderr",
     "output_type": "stream",
     "text": [
      "C:\\Users\\sujit\\anaconda3\\lib\\site-packages\\ipykernel_launcher.py:2: SettingWithCopyWarning: \n",
      "A value is trying to be set on a copy of a slice from a DataFrame.\n",
      "Try using .loc[row_indexer,col_indexer] = value instead\n",
      "\n",
      "See the caveats in the documentation: https://pandas.pydata.org/pandas-docs/stable/user_guide/indexing.html#returning-a-view-versus-a-copy\n",
      "  \n",
      "C:\\Users\\sujit\\anaconda3\\lib\\site-packages\\ipykernel_launcher.py:3: SettingWithCopyWarning: \n",
      "A value is trying to be set on a copy of a slice from a DataFrame.\n",
      "Try using .loc[row_indexer,col_indexer] = value instead\n",
      "\n",
      "See the caveats in the documentation: https://pandas.pydata.org/pandas-docs/stable/user_guide/indexing.html#returning-a-view-versus-a-copy\n",
      "  This is separate from the ipykernel package so we can avoid doing imports until\n"
     ]
    }
   ],
   "source": [
    "##change format of datetime columns\n",
    "df['Created Date']=pd.to_datetime(df['Created Date'], format='%m/%d/%Y %I:%M:%S %p')\n",
    "df['Closed Date']=pd.to_datetime(df['Closed Date'], format='%m/%d/%Y %I:%M:%S %p')"
   ]
  },
  {
   "cell_type": "code",
   "execution_count": 6,
   "metadata": {},
   "outputs": [
    {
     "name": "stderr",
     "output_type": "stream",
     "text": [
      "C:\\Users\\sujit\\anaconda3\\lib\\site-packages\\ipykernel_launcher.py:1: SettingWithCopyWarning: \n",
      "A value is trying to be set on a copy of a slice from a DataFrame.\n",
      "Try using .loc[row_indexer,col_indexer] = value instead\n",
      "\n",
      "See the caveats in the documentation: https://pandas.pydata.org/pandas-docs/stable/user_guide/indexing.html#returning-a-view-versus-a-copy\n",
      "  \"\"\"Entry point for launching an IPython kernel.\n"
     ]
    }
   ],
   "source": [
    "df['Created Year']=df['Created Date'].dt.year\n",
    "df['Created Month']=df['Created Date'].dt.month"
   ]
  },
  {
   "cell_type": "code",
   "execution_count": 9,
   "metadata": {},
   "outputs": [],
   "source": [
    "df_2020 = df[df[\"Created Year\"] == 2020]\n",
    "df_2019 = df[df[\"Created Year\"] == 2019]\n",
    "df_2018 = df[df[\"Created Year\"] == 2018]\n",
    "df_2017 = df[df[\"Created Year\"] == 2017]\n",
    "df_2016 = df[df[\"Created Year\"] == 2016]\n",
    "df_2015 = df[df[\"Created Year\"] == 2015]\n",
    "df_2014 = df[df[\"Created Year\"] == 2014]\n",
    "df_2013 = df[df[\"Created Year\"] == 2013]\n",
    "df_2012 = df[df[\"Created Year\"] == 2012]\n",
    "df_2011 = df[df[\"Created Year\"] == 2011]\n",
    "df_2010 = df[df[\"Created Year\"] == 2010]"
   ]
  },
  {
   "cell_type": "code",
   "execution_count": 10,
   "metadata": {},
   "outputs": [],
   "source": [
    "df_2020.to_csv(\"NYC_311_Data_Sort_2020.csv\")\n",
    "df_2019.to_csv(\"NYC_311_Data_Sort_2019.csv\")\n",
    "df_2018.to_csv(\"NYC_311_Data_Sort_2018.csv\")\n",
    "df_2017.to_csv(\"NYC_311_Data_Sort_2017.csv\")\n",
    "df_2016.to_csv(\"NYC_311_Data_Sort_2016.csv\")\n",
    "df_2015.to_csv(\"NYC_311_Data_Sort_2015.csv\")\n",
    "df_2014.to_csv(\"NYC_311_Data_Sort_2014.csv\")\n",
    "df_2013.to_csv(\"NYC_311_Data_Sort_2013.csv\")\n",
    "df_2012.to_csv(\"NYC_311_Data_Sort_2012.csv\")\n",
    "df_2011.to_csv(\"NYC_311_Data_Sort_2011.csv\")\n",
    "df_2010.to_csv(\"NYC_311_Data_Sort_2010.csv\")"
   ]
  }
 ],
 "metadata": {
  "kernelspec": {
   "display_name": "Python 3",
   "language": "python",
   "name": "python3"
  },
  "language_info": {
   "codemirror_mode": {
    "name": "ipython",
    "version": 3
   },
   "file_extension": ".py",
   "mimetype": "text/x-python",
   "name": "python",
   "nbconvert_exporter": "python",
   "pygments_lexer": "ipython3",
   "version": "3.7.6"
  }
 },
 "nbformat": 4,
 "nbformat_minor": 4
}
